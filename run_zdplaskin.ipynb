{
 "cells": [
  {
   "cell_type": "code",
   "execution_count": null,
   "metadata": {},
   "outputs": [],
   "source": [
    "import os\n",
    "import subprocess"
   ]
  },
  {
   "cell_type": "markdown",
   "metadata": {},
   "source": [
    "### function to run zdplaskin local\n",
    "\n",
    "sourcdir = where zdplaskin source files live\n",
    "\n",
    "rundir = where zdplaskin should run in\n",
    "\n",
    "return object of running 'EXECUTE'"
   ]
  },
  {
   "cell_type": "code",
   "execution_count": null,
   "metadata": {},
   "outputs": [],
   "source": [
    "def run_zdplaskin(sourcedir, rundir):\n",
    "    subprocess.run([\"mkdir\", rundir])\n",
    "    subprocess.run([\"cp\", \"-R\", sourcedir+\"/\", rundir])\n",
    "    if any(x == 'kinet.inp' for x in os.listdir(\"testrun1\")):\n",
    "        subprocess.run([\"wine\", \"preprocessor.exe\", \"kinet.inp\", \"zdplaskin_m.F90\"], cwd=rundir+\"/\")\n",
    "    else:\n",
    "        return print(\"no .inp file\")\n",
    "    subprocess.run([\"gfortran\", \"-m64\", \"-ffree-line-length-0\", \"-o\", \"EXECUTE\", \"-I\", \"./\", \"dvode_f90_m.F90\", \"zdplaskin_m.F90\", \"test_2reac.f90\", \"bolsig_x86_64.dylib\"], cwd=rundir+\"/\")\n",
    "    run = subprocess.Popen([\"./EXECUTE\", \">>\", \"./run.log\"], cwd=rundir+\"/\")\n",
    "\n",
    "    return run"
   ]
  },
  {
   "cell_type": "code",
   "execution_count": null,
   "metadata": {},
   "outputs": [],
   "source": [
    "lol = run_zdplaskin(\"zdplaskin\", \"testrun1\")\n",
    "while lol.poll() == None:\n",
    "    print(\"wait\")\n"
   ]
  },
  {
   "cell_type": "markdown",
   "metadata": {},
   "source": [
    "### function to read chemistry reactions from Excel database file"
   ]
  },
  {
   "cell_type": "code",
   "execution_count": null,
   "metadata": {},
   "outputs": [],
   "source": [
    "print(\"output \" + str(lol))"
   ]
  },
  {
   "cell_type": "code",
   "execution_count": null,
   "metadata": {},
   "outputs": [],
   "source": []
  },
  {
   "cell_type": "markdown",
   "metadata": {},
   "source": [
    "### function to write chemistry to .inp file"
   ]
  },
  {
   "cell_type": "code",
   "execution_count": null,
   "metadata": {},
   "outputs": [],
   "source": [
    "def write_inp(filename, elements_list, species_list, reactions):\n",
    "    # open file to write elements\n",
    "    f = open(filename, \"w\")\n",
    "\n",
    "    \n",
    "\n",
    "    f.write('ELEMENTS\\n')\n",
    "    for i in range(len(elements_list)):\n",
    "        f.write(elements_list[i] + '\\n')\n",
    "    f.write('END\\n')\n",
    "    f.write('\\n')\n",
    "    f.close()\n",
    "\n",
    "    # open file to write\n",
    "    f = open(filename, \"a\")\n",
    "\n",
    "    f.write('SPECIES\\n')\n",
    "    for i in range(len(species_list)):\n",
    "        f.write(species_list[i] + '\\n')\n",
    "    f.write('END\\n')\n",
    "    f.write('\\n')\n",
    "    f.close()\n",
    "\n",
    "    # write bolsig instructions\n",
    "    f = open(filename, \"a\")\n",
    "\n",
    "    f.write('BOLSIG\\n')\n",
    "    f.write('set dbfile BOLSIGDB.DAT\\n')\n",
    "    for i in range(len(reactions)):\n",
    "        print(i)\n",
    "        if ('BOLSIG' in reactions[i][1]):\n",
    "            f.write(reactions[i][0] + '       !' + reactions[i][1] + \"\\n\")\n",
    "    f.write('END\\n')\n",
    "\n",
    "    f.close()\n",
    "\n",
    "    # write chemistry\n",
    "    f = open(filename, \"a\")\n",
    "\n",
    "    f.write('REACTIONS\\n')\n",
    "\n",
    "    for i in range(len(reactions)):\n",
    "        if ('BOLSIG' not in reactions[i][1]):\n",
    "            f.write(reactions[i][0] + '       !' + reactions[i][1] + \"\\n\")\n",
    "\n",
    "    f.write('END\\n')\n",
    "\n",
    "    f.close()\n",
    "\n",
    "    return 0"
   ]
  },
  {
   "cell_type": "code",
   "execution_count": null,
   "metadata": {},
   "outputs": [],
   "source": [
    "write_inp(\"kinet.inp\", ['E', 'N'], [\"E\", \"N2\"], [['E + N2 => E + E + N2^+', 'BOLSIG+ N2 -> N2^+'], ['N2^+ + E => N2', '1E-18']])"
   ]
  },
  {
   "cell_type": "code",
   "execution_count": null,
   "metadata": {},
   "outputs": [],
   "source": [
    "test = [['E + N2 => E + E + N2^+', 'BOLSIG+ N2 -> N2^+']]\n",
    "test[0][1]"
   ]
  },
  {
   "cell_type": "code",
   "execution_count": null,
   "metadata": {},
   "outputs": [],
   "source": []
  }
 ],
 "metadata": {
  "interpreter": {
   "hash": "25dae038d4d1811dbf6f200c6a11c0a2c0fa7d6edd584927af61f3dec07a3ee4"
  },
  "kernelspec": {
   "display_name": "Python 3.7.11 ('base')",
   "language": "python",
   "name": "python3"
  },
  "language_info": {
   "codemirror_mode": {
    "name": "ipython",
    "version": 3
   },
   "file_extension": ".py",
   "mimetype": "text/x-python",
   "name": "python",
   "nbconvert_exporter": "python",
   "pygments_lexer": "ipython3",
   "version": "3.7.11"
  },
  "orig_nbformat": 4
 },
 "nbformat": 4,
 "nbformat_minor": 2
}
