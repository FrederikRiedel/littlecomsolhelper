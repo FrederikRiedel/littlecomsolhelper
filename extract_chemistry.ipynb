{
 "cells": [
  {
   "cell_type": "markdown",
   "metadata": {},
   "source": [
    "### read out .m file from comsol model to extract reactions\n",
    "\n",
    "1. compact history in comsol\n",
    "2. save model as .m file\n",
    "\n",
    "The script looks for lines similar to 'model.component('comp1').physics('chem2').feature(', so make sure if chem or plas is the physics module you want to extract the reactions from"
   ]
  },
  {
   "cell_type": "code",
   "execution_count": null,
   "metadata": {},
   "outputs": [],
   "source": [
    "import numpy as np\n",
    "import pandas as pd"
   ]
  },
  {
   "cell_type": "code",
   "execution_count": null,
   "metadata": {},
   "outputs": [],
   "source": [
    "filename = \"\"\n",
    "file = open(filename, \"r\")\n",
    "content = file.readlines()\n",
    "file.close()\n"
   ]
  },
  {
   "cell_type": "code",
   "execution_count": null,
   "metadata": {},
   "outputs": [],
   "source": [
    "reactions = []          # list with reactions\n",
    "reactions_coeff = []    # list with reaction coefficients\n",
    "#if any(\"model.component('comp1').physics('plas').feature(\" in s for s in content):\n",
    "for i in range(len(content)):\n",
    "    if (\"model.component('comp1').physics('chem2').feature(\" in content[i] and \"'formula'\" in content[i] and \"true\" in content[i-9]):\n",
    "        reactions.append(content[i].split(\"'\")[9])\n",
    "        reactions_coeff.append(content[i+3].split(\"'kf', \")[1].split(\"'\")[1].split(\"*\")[0])\n",
    "\n"
   ]
  },
  {
   "cell_type": "markdown",
   "metadata": {},
   "source": [
    "### Extracting species"
   ]
  },
  {
   "cell_type": "code",
   "execution_count": null,
   "metadata": {},
   "outputs": [],
   "source": [
    "rlh = []\n",
    "rrh = []\n",
    "for i in range(len(reactions)):\n",
    "    rlh.append(reactions[i].split(\"=>\")[0].split(\"+\"))\n",
    "    rrh.append(reactions[i].split(\"=>\")[1].split(\"+\"))\n",
    "#print(reactionslh)\n",
    "flat_reactions = list(np.concatenate(rlh + rrh).flat)\n",
    "species = set(flat_reactions)"
   ]
  }
 ],
 "metadata": {
  "interpreter": {
   "hash": "25dae038d4d1811dbf6f200c6a11c0a2c0fa7d6edd584927af61f3dec07a3ee4"
  },
  "kernelspec": {
   "display_name": "Python 3.7.11 ('base')",
   "language": "python",
   "name": "python3"
  },
  "language_info": {
   "codemirror_mode": {
    "name": "ipython",
    "version": 3
   },
   "file_extension": ".py",
   "mimetype": "text/x-python",
   "name": "python",
   "nbconvert_exporter": "python",
   "pygments_lexer": "ipython3",
   "version": "3.7.11"
  },
  "orig_nbformat": 4
 },
 "nbformat": 4,
 "nbformat_minor": 2
}
